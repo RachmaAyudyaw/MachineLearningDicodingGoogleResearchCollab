{
  "nbformat": 4,
  "nbformat_minor": 0,
  "metadata": {
    "colab": {
      "name": "Proyek2_MembuatModelMachineLearningdDenganDataTimeSeries.ipynb",
      "provenance": [],
      "collapsed_sections": [],
      "include_colab_link": true
    },
    "kernelspec": {
      "name": "python3",
      "display_name": "Python 3"
    },
    "language_info": {
      "name": "python"
    }
  },
  "cells": [
    {
      "cell_type": "markdown",
      "metadata": {
        "id": "view-in-github",
        "colab_type": "text"
      },
      "source": [
        "<a href=\"https://colab.research.google.com/github/RachmaAyudyaw/MachineLearningDicodingGoogleResearchCollab/blob/main/Proyek2_MembuatModelMachineLearningdDenganDataTimeSeries.ipynb\" target=\"_parent\"><img src=\"https://colab.research.google.com/assets/colab-badge.svg\" alt=\"Open In Colab\"/></a>"
      ]
    },
    {
      "cell_type": "code",
      "metadata": {
        "id": "-Fsa5Ah6pEg5"
      },
      "source": [
        "import pandas as pd\n",
        "import numpy as np\n",
        "from keras.layers import Dense, LSTM\n",
        "import matplotlib.pyplot as plt\n",
        "import tensorflow as tf\n"
      ],
      "execution_count": null,
      "outputs": []
    },
    {
      "cell_type": "code",
      "metadata": {
        "colab": {
          "base_uri": "https://localhost:8080/"
        },
        "id": "N0pBeGMsrKSV",
        "outputId": "ac4d6845-7e9a-405f-a3d2-eb0a3dce1812"
      },
      "source": [
        "data=pd.read_csv('AABA_2006-01-01_to_2018-01-01.csv')\n",
        "data.shape"
      ],
      "execution_count": null,
      "outputs": [
        {
          "output_type": "execute_result",
          "data": {
            "text/plain": [
              "(3019, 7)"
            ]
          },
          "metadata": {
            "tags": []
          },
          "execution_count": 2
        }
      ]
    },
    {
      "cell_type": "code",
      "metadata": {
        "colab": {
          "base_uri": "https://localhost:8080/",
          "height": 419
        },
        "id": "WNPiQaxCqcgJ",
        "outputId": "82fd909d-ae33-47f3-e3ec-43e7350401e4"
      },
      "source": [
        "data"
      ],
      "execution_count": null,
      "outputs": [
        {
          "output_type": "execute_result",
          "data": {
            "text/html": [
              "<div>\n",
              "<style scoped>\n",
              "    .dataframe tbody tr th:only-of-type {\n",
              "        vertical-align: middle;\n",
              "    }\n",
              "\n",
              "    .dataframe tbody tr th {\n",
              "        vertical-align: top;\n",
              "    }\n",
              "\n",
              "    .dataframe thead th {\n",
              "        text-align: right;\n",
              "    }\n",
              "</style>\n",
              "<table border=\"1\" class=\"dataframe\">\n",
              "  <thead>\n",
              "    <tr style=\"text-align: right;\">\n",
              "      <th></th>\n",
              "      <th>Date</th>\n",
              "      <th>Open</th>\n",
              "      <th>High</th>\n",
              "      <th>Low</th>\n",
              "      <th>Close</th>\n",
              "      <th>Volume</th>\n",
              "      <th>Name</th>\n",
              "    </tr>\n",
              "  </thead>\n",
              "  <tbody>\n",
              "    <tr>\n",
              "      <th>0</th>\n",
              "      <td>2006-01-03</td>\n",
              "      <td>39.69</td>\n",
              "      <td>41.22</td>\n",
              "      <td>38.79</td>\n",
              "      <td>40.91</td>\n",
              "      <td>24232729</td>\n",
              "      <td>AABA</td>\n",
              "    </tr>\n",
              "    <tr>\n",
              "      <th>1</th>\n",
              "      <td>2006-01-04</td>\n",
              "      <td>41.22</td>\n",
              "      <td>41.90</td>\n",
              "      <td>40.77</td>\n",
              "      <td>40.97</td>\n",
              "      <td>20553479</td>\n",
              "      <td>AABA</td>\n",
              "    </tr>\n",
              "    <tr>\n",
              "      <th>2</th>\n",
              "      <td>2006-01-05</td>\n",
              "      <td>40.93</td>\n",
              "      <td>41.73</td>\n",
              "      <td>40.85</td>\n",
              "      <td>41.53</td>\n",
              "      <td>12829610</td>\n",
              "      <td>AABA</td>\n",
              "    </tr>\n",
              "    <tr>\n",
              "      <th>3</th>\n",
              "      <td>2006-01-06</td>\n",
              "      <td>42.88</td>\n",
              "      <td>43.57</td>\n",
              "      <td>42.80</td>\n",
              "      <td>43.21</td>\n",
              "      <td>29422828</td>\n",
              "      <td>AABA</td>\n",
              "    </tr>\n",
              "    <tr>\n",
              "      <th>4</th>\n",
              "      <td>2006-01-09</td>\n",
              "      <td>43.10</td>\n",
              "      <td>43.66</td>\n",
              "      <td>42.82</td>\n",
              "      <td>43.42</td>\n",
              "      <td>16268338</td>\n",
              "      <td>AABA</td>\n",
              "    </tr>\n",
              "    <tr>\n",
              "      <th>...</th>\n",
              "      <td>...</td>\n",
              "      <td>...</td>\n",
              "      <td>...</td>\n",
              "      <td>...</td>\n",
              "      <td>...</td>\n",
              "      <td>...</td>\n",
              "      <td>...</td>\n",
              "    </tr>\n",
              "    <tr>\n",
              "      <th>3014</th>\n",
              "      <td>2017-12-22</td>\n",
              "      <td>71.42</td>\n",
              "      <td>71.87</td>\n",
              "      <td>71.22</td>\n",
              "      <td>71.58</td>\n",
              "      <td>10979165</td>\n",
              "      <td>AABA</td>\n",
              "    </tr>\n",
              "    <tr>\n",
              "      <th>3015</th>\n",
              "      <td>2017-12-26</td>\n",
              "      <td>70.94</td>\n",
              "      <td>71.39</td>\n",
              "      <td>69.63</td>\n",
              "      <td>69.86</td>\n",
              "      <td>8542802</td>\n",
              "      <td>AABA</td>\n",
              "    </tr>\n",
              "    <tr>\n",
              "      <th>3016</th>\n",
              "      <td>2017-12-27</td>\n",
              "      <td>69.77</td>\n",
              "      <td>70.49</td>\n",
              "      <td>69.69</td>\n",
              "      <td>70.06</td>\n",
              "      <td>6345124</td>\n",
              "      <td>AABA</td>\n",
              "    </tr>\n",
              "    <tr>\n",
              "      <th>3017</th>\n",
              "      <td>2017-12-28</td>\n",
              "      <td>70.12</td>\n",
              "      <td>70.32</td>\n",
              "      <td>69.51</td>\n",
              "      <td>69.82</td>\n",
              "      <td>7556877</td>\n",
              "      <td>AABA</td>\n",
              "    </tr>\n",
              "    <tr>\n",
              "      <th>3018</th>\n",
              "      <td>2017-12-29</td>\n",
              "      <td>69.79</td>\n",
              "      <td>70.13</td>\n",
              "      <td>69.43</td>\n",
              "      <td>69.85</td>\n",
              "      <td>6613070</td>\n",
              "      <td>AABA</td>\n",
              "    </tr>\n",
              "  </tbody>\n",
              "</table>\n",
              "<p>3019 rows × 7 columns</p>\n",
              "</div>"
            ],
            "text/plain": [
              "            Date   Open   High    Low  Close    Volume  Name\n",
              "0     2006-01-03  39.69  41.22  38.79  40.91  24232729  AABA\n",
              "1     2006-01-04  41.22  41.90  40.77  40.97  20553479  AABA\n",
              "2     2006-01-05  40.93  41.73  40.85  41.53  12829610  AABA\n",
              "3     2006-01-06  42.88  43.57  42.80  43.21  29422828  AABA\n",
              "4     2006-01-09  43.10  43.66  42.82  43.42  16268338  AABA\n",
              "...          ...    ...    ...    ...    ...       ...   ...\n",
              "3014  2017-12-22  71.42  71.87  71.22  71.58  10979165  AABA\n",
              "3015  2017-12-26  70.94  71.39  69.63  69.86   8542802  AABA\n",
              "3016  2017-12-27  69.77  70.49  69.69  70.06   6345124  AABA\n",
              "3017  2017-12-28  70.12  70.32  69.51  69.82   7556877  AABA\n",
              "3018  2017-12-29  69.79  70.13  69.43  69.85   6613070  AABA\n",
              "\n",
              "[3019 rows x 7 columns]"
            ]
          },
          "metadata": {
            "tags": []
          },
          "execution_count": 3
        }
      ]
    },
    {
      "cell_type": "code",
      "metadata": {
        "colab": {
          "base_uri": "https://localhost:8080/"
        },
        "id": "qc-N4YE4qf2h",
        "outputId": "672a3b26-782e-4a2f-b7f2-7ec48b15ad25"
      },
      "source": [
        "data.isnull().sum()"
      ],
      "execution_count": null,
      "outputs": [
        {
          "output_type": "execute_result",
          "data": {
            "text/plain": [
              "Date      0\n",
              "Open      0\n",
              "High      0\n",
              "Low       0\n",
              "Close     0\n",
              "Volume    0\n",
              "Name      0\n",
              "dtype: int64"
            ]
          },
          "metadata": {
            "tags": []
          },
          "execution_count": 4
        }
      ]
    },
    {
      "cell_type": "code",
      "metadata": {
        "colab": {
          "base_uri": "https://localhost:8080/"
        },
        "id": "BqOh2hFoQXeT",
        "outputId": "f71f16a3-3175-4d01-abb2-e48db3fbb01b"
      },
      "source": [
        "data.info()"
      ],
      "execution_count": null,
      "outputs": [
        {
          "output_type": "stream",
          "text": [
            "<class 'pandas.core.frame.DataFrame'>\n",
            "RangeIndex: 3019 entries, 0 to 3018\n",
            "Data columns (total 7 columns):\n",
            " #   Column  Non-Null Count  Dtype  \n",
            "---  ------  --------------  -----  \n",
            " 0   Date    3019 non-null   object \n",
            " 1   Open    3019 non-null   float64\n",
            " 2   High    3019 non-null   float64\n",
            " 3   Low     3019 non-null   float64\n",
            " 4   Close   3019 non-null   float64\n",
            " 5   Volume  3019 non-null   int64  \n",
            " 6   Name    3019 non-null   object \n",
            "dtypes: float64(4), int64(1), object(2)\n",
            "memory usage: 165.2+ KB\n"
          ],
          "name": "stdout"
        }
      ]
    },
    {
      "cell_type": "code",
      "metadata": {
        "colab": {
          "base_uri": "https://localhost:8080/",
          "height": 419
        },
        "id": "MCmLEDY4AXlp",
        "outputId": "2f5d4527-91cf-4a81-9ddb-7f693ad11bb5"
      },
      "source": [
        "from sklearn.preprocessing import MinMaxScaler\n",
        "#values=open.reshape((len(open), 1))\n",
        "scaler=MinMaxScaler(feature_range=(0,1))\n",
        "X_scaler=scaler.fit_transform(data[['Open']])\n",
        "data[['Open']]=X_scaler\n",
        "data[['Open']]"
      ],
      "execution_count": null,
      "outputs": [
        {
          "output_type": "execute_result",
          "data": {
            "text/html": [
              "<div>\n",
              "<style scoped>\n",
              "    .dataframe tbody tr th:only-of-type {\n",
              "        vertical-align: middle;\n",
              "    }\n",
              "\n",
              "    .dataframe tbody tr th {\n",
              "        vertical-align: top;\n",
              "    }\n",
              "\n",
              "    .dataframe thead th {\n",
              "        text-align: right;\n",
              "    }\n",
              "</style>\n",
              "<table border=\"1\" class=\"dataframe\">\n",
              "  <thead>\n",
              "    <tr style=\"text-align: right;\">\n",
              "      <th></th>\n",
              "      <th>Open</th>\n",
              "    </tr>\n",
              "  </thead>\n",
              "  <tbody>\n",
              "    <tr>\n",
              "      <th>0</th>\n",
              "      <td>0.478567</td>\n",
              "    </tr>\n",
              "    <tr>\n",
              "      <th>1</th>\n",
              "      <td>0.502503</td>\n",
              "    </tr>\n",
              "    <tr>\n",
              "      <th>2</th>\n",
              "      <td>0.497966</td>\n",
              "    </tr>\n",
              "    <tr>\n",
              "      <th>3</th>\n",
              "      <td>0.528473</td>\n",
              "    </tr>\n",
              "    <tr>\n",
              "      <th>4</th>\n",
              "      <td>0.531915</td>\n",
              "    </tr>\n",
              "    <tr>\n",
              "      <th>...</th>\n",
              "      <td>...</td>\n",
              "    </tr>\n",
              "    <tr>\n",
              "      <th>3014</th>\n",
              "      <td>0.974969</td>\n",
              "    </tr>\n",
              "    <tr>\n",
              "      <th>3015</th>\n",
              "      <td>0.967459</td>\n",
              "    </tr>\n",
              "    <tr>\n",
              "      <th>3016</th>\n",
              "      <td>0.949155</td>\n",
              "    </tr>\n",
              "    <tr>\n",
              "      <th>3017</th>\n",
              "      <td>0.954631</td>\n",
              "    </tr>\n",
              "    <tr>\n",
              "      <th>3018</th>\n",
              "      <td>0.949468</td>\n",
              "    </tr>\n",
              "  </tbody>\n",
              "</table>\n",
              "<p>3019 rows × 1 columns</p>\n",
              "</div>"
            ],
            "text/plain": [
              "          Open\n",
              "0     0.478567\n",
              "1     0.502503\n",
              "2     0.497966\n",
              "3     0.528473\n",
              "4     0.531915\n",
              "...        ...\n",
              "3014  0.974969\n",
              "3015  0.967459\n",
              "3016  0.949155\n",
              "3017  0.954631\n",
              "3018  0.949468\n",
              "\n",
              "[3019 rows x 1 columns]"
            ]
          },
          "metadata": {
            "tags": []
          },
          "execution_count": 33
        }
      ]
    },
    {
      "cell_type": "code",
      "metadata": {
        "colab": {
          "base_uri": "https://localhost:8080/",
          "height": 341
        },
        "id": "ZyEuqjwaqn_g",
        "outputId": "82877cad-2063-4ce0-e02b-39bd2c845e41"
      },
      "source": [
        "#dates=data['Date'].values\n",
        "dates=data['Date'].values\n",
        "open=data['Open'].values\n",
        "\n",
        "plt.figure(figsize=(15,5))\n",
        "plt.plot(dates,open)\n",
        "plt.title('Open average',fontsize=20);"
      ],
      "execution_count": null,
      "outputs": [
        {
          "output_type": "display_data",
          "data": {
            "image/png": "[encoded data removed]",
            "text/plain": [
              "<Figure size 1080x360 with 1 Axes>"
            ]
          },
          "metadata": {
            "tags": [],
            "needs_background": "light"
          }
        }
      ]
    },
    {
      "cell_type": "code",
      "metadata": {
        "colab": {
          "base_uri": "https://localhost:8080/"
        },
        "id": "n1CxV2j-4VU7",
        "outputId": "0f81d880-feef-4e76-9cf0-66a49e6bf4b3"
      },
      "source": [
        "y=(data['Open'].max()-data['Open'].min())*0.1\n",
        "y"
      ],
      "execution_count": null,
      "outputs": [
        {
          "output_type": "execute_result",
          "data": {
            "text/plain": [
              "6.3919999999999995"
            ]
          },
          "metadata": {
            "tags": []
          },
          "execution_count": 24
        }
      ]
    },
    {
      "cell_type": "code",
      "metadata": {
        "id": "gbsVGyRGutzM"
      },
      "source": [
        "from sklearn.model_selection import train_test_split\n",
        "X_train, X_test, Y_train, Y_test = train_test_split(open, dates, test_size=0.2, shuffle=False, random_state=0)"
      ],
      "execution_count": null,
      "outputs": []
    },
    {
      "cell_type": "code",
      "metadata": {
        "colab": {
          "base_uri": "https://localhost:8080/"
        },
        "id": "_qLzUz5S3MFT",
        "outputId": "316793f4-8944-42ae-89b0-262415045b56"
      },
      "source": [
        "print(X_train.shape, X_test.shape, Y_train.shape, Y_test.shape)"
      ],
      "execution_count": null,
      "outputs": [
        {
          "output_type": "stream",
          "text": [
            "(2415,) (604,) (2415,) (604,)\n"
          ],
          "name": "stdout"
        }
      ]
    },
    {
      "cell_type": "code",
      "metadata": {
        "id": "pCbCkOw6rfKW"
      },
      "source": [
        "def windowed_dataset(series, window_size, batch_size, shuffle_buffer):\n",
        "  series = tf.expand_dims(series, axis=-1)\n",
        "  ds = tf.data.Dataset.from_tensor_slices(series)\n",
        "  ds = ds.window(window_size + 1, shift=1, drop_remainder=True)\n",
        "  ds = ds.flat_map(lambda w: w.batch(window_size + 1))\n",
        "  ds = ds.shuffle(shuffle_buffer)\n",
        "  ds = ds.map(lambda w: (w[:-1], w[-1:]))\n",
        "  return ds.batch(batch_size).prefetch(1)"
      ],
      "execution_count": null,
      "outputs": []
    },
    {
      "cell_type": "code",
      "metadata": {
        "id": "ljpSsWZayWMG"
      },
      "source": [
        "class myCallback(tf.keras.callbacks.Callback):\n",
        "  def on_epoch_end(self,epoch,logs={}):\n",
        "    if(logs.get('mae')<0.1):\n",
        "      print(\"\\nMae telah mencapai < 10%!\")\n",
        "      self.model.stop_training=True\n",
        "callbacks=myCallback()"
      ],
      "execution_count": null,
      "outputs": []
    },
    {
      "cell_type": "code",
      "metadata": {
        "id": "NwnhVMsVsQtS"
      },
      "source": [
        "train_set= windowed_dataset(X_train, window_size=60, batch_size=100, shuffle_buffer=1000)\n",
        "test_set = windowed_dataset(X_test, window_size=60, batch_size=100, shuffle_buffer=1000)\n",
        "model = tf.keras.models.Sequential([\n",
        "                                    tf.keras.layers.LSTM(60,return_sequences=True),\n",
        "                                    tf.keras.layers.LSTM(60),\n",
        "                                    tf.keras.layers.Dense(30, activation=\"relu\"),\n",
        "                                    tf.keras.layers.Dense(10, activation=\"relu\"),\n",
        "                                    tf.keras.layers.Dense(1),\n",
        "])"
      ],
      "execution_count": null,
      "outputs": []
    },
    {
      "cell_type": "code",
      "metadata": {
        "colab": {
          "base_uri": "https://localhost:8080/"
        },
        "id": "5JQxYYinuRt7",
        "outputId": "aca0f70c-ec30-461b-efc7-eb7199722d21"
      },
      "source": [
        "optimizer = tf.keras.optimizers.SGD(learning_rate=1.0000e-03,momentum=0.9)\n",
        "model.compile(loss=tf.keras.losses.Huber(),\n",
        "              optimizer=optimizer,\n",
        "              metrics=['mae'])\n",
        "history = model.fit(train_set,epochs=100,validation_data=test_set,callbacks=[callbacks])"
      ],
      "execution_count": null,
      "outputs": [
        {
          "output_type": "stream",
          "text": [
            "Epoch 1/100\n",
            "24/24 [==============================] - 9s 160ms/step - loss: 0.0327 - mae: 0.2091 - val_loss: 0.1429 - val_mae: 0.4999\n",
            "Epoch 2/100\n",
            "24/24 [==============================] - 3s 122ms/step - loss: 0.0194 - mae: 0.1422 - val_loss: 0.1079 - val_mae: 0.4251\n",
            "Epoch 3/100\n",
            "24/24 [==============================] - 3s 121ms/step - loss: 0.0130 - mae: 0.1227 - val_loss: 0.0884 - val_mae: 0.3763\n",
            "Epoch 4/100\n",
            "24/24 [==============================] - 3s 124ms/step - loss: 0.0110 - mae: 0.1206 - val_loss: 0.0781 - val_mae: 0.3483\n",
            "Epoch 5/100\n",
            "24/24 [==============================] - 3s 121ms/step - loss: 0.0104 - mae: 0.1205 - val_loss: 0.0726 - val_mae: 0.3328\n",
            "Epoch 6/100\n",
            "24/24 [==============================] - 3s 122ms/step - loss: 0.0103 - mae: 0.1206 - val_loss: 0.0695 - val_mae: 0.3240\n",
            "Epoch 7/100\n",
            "24/24 [==============================] - 3s 125ms/step - loss: 0.0102 - mae: 0.1208 - val_loss: 0.0678 - val_mae: 0.3189\n",
            "Epoch 8/100\n",
            "24/24 [==============================] - 3s 123ms/step - loss: 0.0101 - mae: 0.1207 - val_loss: 0.0665 - val_mae: 0.3152\n",
            "Epoch 9/100\n",
            "24/24 [==============================] - 3s 122ms/step - loss: 0.0101 - mae: 0.1205 - val_loss: 0.0660 - val_mae: 0.3140\n",
            "Epoch 10/100\n",
            "24/24 [==============================] - 3s 124ms/step - loss: 0.0100 - mae: 0.1200 - val_loss: 0.0651 - val_mae: 0.3115\n",
            "Epoch 11/100\n",
            "24/24 [==============================] - 3s 121ms/step - loss: 0.0099 - mae: 0.1196 - val_loss: 0.0646 - val_mae: 0.3101\n",
            "Epoch 12/100\n",
            "24/24 [==============================] - 3s 124ms/step - loss: 0.0098 - mae: 0.1192 - val_loss: 0.0641 - val_mae: 0.3088\n",
            "Epoch 13/100\n",
            "24/24 [==============================] - 3s 123ms/step - loss: 0.0098 - mae: 0.1187 - val_loss: 0.0637 - val_mae: 0.3078\n",
            "Epoch 14/100\n",
            "24/24 [==============================] - 3s 123ms/step - loss: 0.0097 - mae: 0.1181 - val_loss: 0.0631 - val_mae: 0.3063\n",
            "Epoch 15/100\n",
            "24/24 [==============================] - 3s 123ms/step - loss: 0.0096 - mae: 0.1176 - val_loss: 0.0626 - val_mae: 0.3049\n",
            "Epoch 16/100\n",
            "24/24 [==============================] - 3s 124ms/step - loss: 0.0095 - mae: 0.1171 - val_loss: 0.0622 - val_mae: 0.3038\n",
            "Epoch 17/100\n",
            "24/24 [==============================] - 3s 121ms/step - loss: 0.0094 - mae: 0.1166 - val_loss: 0.0614 - val_mae: 0.3017\n",
            "Epoch 18/100\n",
            "24/24 [==============================] - 3s 122ms/step - loss: 0.0093 - mae: 0.1162 - val_loss: 0.0611 - val_mae: 0.3010\n",
            "Epoch 19/100\n",
            "24/24 [==============================] - 3s 124ms/step - loss: 0.0092 - mae: 0.1156 - val_loss: 0.0606 - val_mae: 0.2998\n",
            "Epoch 20/100\n",
            "24/24 [==============================] - 3s 124ms/step - loss: 0.0092 - mae: 0.1150 - val_loss: 0.0603 - val_mae: 0.2989\n",
            "Epoch 21/100\n",
            "24/24 [==============================] - 3s 121ms/step - loss: 0.0091 - mae: 0.1145 - val_loss: 0.0597 - val_mae: 0.2973\n",
            "Epoch 22/100\n",
            "24/24 [==============================] - 3s 122ms/step - loss: 0.0090 - mae: 0.1140 - val_loss: 0.0592 - val_mae: 0.2961\n",
            "Epoch 23/100\n",
            "24/24 [==============================] - 3s 124ms/step - loss: 0.0089 - mae: 0.1134 - val_loss: 0.0587 - val_mae: 0.2948\n",
            "Epoch 24/100\n",
            "24/24 [==============================] - 3s 122ms/step - loss: 0.0088 - mae: 0.1129 - val_loss: 0.0582 - val_mae: 0.2934\n",
            "Epoch 25/100\n",
            "24/24 [==============================] - 3s 122ms/step - loss: 0.0087 - mae: 0.1123 - val_loss: 0.0576 - val_mae: 0.2918\n",
            "Epoch 26/100\n",
            "24/24 [==============================] - 3s 121ms/step - loss: 0.0086 - mae: 0.1117 - val_loss: 0.0572 - val_mae: 0.2905\n",
            "Epoch 27/100\n",
            "24/24 [==============================] - 3s 124ms/step - loss: 0.0085 - mae: 0.1110 - val_loss: 0.0565 - val_mae: 0.2885\n",
            "Epoch 28/100\n",
            "24/24 [==============================] - 3s 129ms/step - loss: 0.0085 - mae: 0.1105 - val_loss: 0.0561 - val_mae: 0.2876\n",
            "Epoch 29/100\n",
            "24/24 [==============================] - 3s 122ms/step - loss: 0.0084 - mae: 0.1098 - val_loss: 0.0555 - val_mae: 0.2861\n",
            "Epoch 30/100\n",
            "24/24 [==============================] - 3s 122ms/step - loss: 0.0083 - mae: 0.1092 - val_loss: 0.0550 - val_mae: 0.2847\n",
            "Epoch 31/100\n",
            "24/24 [==============================] - 3s 122ms/step - loss: 0.0082 - mae: 0.1085 - val_loss: 0.0544 - val_mae: 0.2828\n",
            "Epoch 32/100\n",
            "24/24 [==============================] - 3s 122ms/step - loss: 0.0081 - mae: 0.1078 - val_loss: 0.0538 - val_mae: 0.2812\n",
            "Epoch 33/100\n",
            "24/24 [==============================] - 3s 124ms/step - loss: 0.0080 - mae: 0.1071 - val_loss: 0.0533 - val_mae: 0.2797\n",
            "Epoch 34/100\n",
            "24/24 [==============================] - 3s 121ms/step - loss: 0.0078 - mae: 0.1063 - val_loss: 0.0526 - val_mae: 0.2778\n",
            "Epoch 35/100\n",
            "24/24 [==============================] - 3s 122ms/step - loss: 0.0077 - mae: 0.1056 - val_loss: 0.0522 - val_mae: 0.2767\n",
            "Epoch 36/100\n",
            "24/24 [==============================] - 3s 125ms/step - loss: 0.0076 - mae: 0.1048 - val_loss: 0.0514 - val_mae: 0.2743\n",
            "Epoch 37/100\n",
            "24/24 [==============================] - 3s 124ms/step - loss: 0.0075 - mae: 0.1040 - val_loss: 0.0507 - val_mae: 0.2721\n",
            "Epoch 38/100\n",
            "24/24 [==============================] - 3s 122ms/step - loss: 0.0074 - mae: 0.1033 - val_loss: 0.0500 - val_mae: 0.2704\n",
            "Epoch 39/100\n",
            "24/24 [==============================] - 3s 122ms/step - loss: 0.0073 - mae: 0.1024 - val_loss: 0.0494 - val_mae: 0.2686\n",
            "Epoch 40/100\n",
            "24/24 [==============================] - 3s 125ms/step - loss: 0.0072 - mae: 0.1015 - val_loss: 0.0489 - val_mae: 0.2671\n",
            "Epoch 41/100\n",
            "24/24 [==============================] - 3s 121ms/step - loss: 0.0071 - mae: 0.1007 - val_loss: 0.0483 - val_mae: 0.2654\n",
            "Epoch 42/100\n",
            "24/24 [==============================] - 3s 121ms/step - loss: 0.0069 - mae: 0.0997 - val_loss: 0.0474 - val_mae: 0.2627\n",
            "\n",
            "Mae telah mencapai < 10%!\n"
          ],
          "name": "stdout"
        }
      ]
    },
    {
      "cell_type": "code",
      "metadata": {
        "colab": {
          "base_uri": "https://localhost:8080/",
          "height": 295
        },
        "id": "SkDZY3QlyeG1",
        "outputId": "d752768a-d9c7-4b19-d5e3-0ee99f174a10"
      },
      "source": [
        "import matplotlib.pyplot as plt\n",
        "plt.plot(history.history['mae'])\n",
        "plt.plot(history.history['val_mae'])\n",
        "plt.title('MAE Model')\n",
        "plt.ylabel('MAE')\n",
        "plt.xlabel('epoch')\n",
        "plt.legend(['latih','test'],loc='upper left')\n",
        "plt.show()"
      ],
      "execution_count": null,
      "outputs": [
        {
          "output_type": "display_data",
          "data": {
            "image/png": "[encoded data removed]",
            "text/plain": [
              "<Figure size 432x288 with 1 Axes>"
            ]
          },
          "metadata": {
            "tags": [],
            "needs_background": "light"
          }
        }
      ]
    },
    {
      "cell_type": "code",
      "metadata": {
        "colab": {
          "base_uri": "https://localhost:8080/",
          "height": 295
        },
        "id": "_yxD_Oc2z64i",
        "outputId": "99a0f2b5-6266-4ae7-9479-c1caacfce212"
      },
      "source": [
        "plt.plot(history.history['loss'])\n",
        "plt.plot(history.history['val_loss'])\n",
        "plt.title('Loss Model')\n",
        "plt.ylabel('MAE')\n",
        "plt.xlabel('epoch')\n",
        "plt.legend(['latih','test'],loc='upper left')\n",
        "plt.show()"
      ],
      "execution_count": null,
      "outputs": [
        {
          "output_type": "display_data",
          "data": {
            "image/png": "[encoded data removed]",
            "text/plain": [
              "<Figure size 432x288 with 1 Axes>"
            ]
          },
          "metadata": {
            "tags": [],
            "needs_background": "light"
          }
        }
      ]
    }
  ]
}