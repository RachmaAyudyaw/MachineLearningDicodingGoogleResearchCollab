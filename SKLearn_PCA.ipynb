{
  "nbformat": 4,
  "nbformat_minor": 0,
  "metadata": {
    "colab": {
      "name": "SKLearn PCA",
      "provenance": [],
      "authorship_tag": "ABX9TyPR0xUlq0xOfZ4up7AknjSU",
      "include_colab_link": true
    },
    "kernelspec": {
      "name": "python3",
      "display_name": "Python 3"
    }
  },
  "cells": [
    {
      "cell_type": "markdown",
      "metadata": {
        "id": "view-in-github",
        "colab_type": "text"
      },
      "source": [
        "<a href=\"https://colab.research.google.com/github/RachmaAyudyaw/MachineLearningDicodingGoogleResearchCollab/blob/main/SKLearn_PCA.ipynb\" target=\"_parent\"><img src=\"https://colab.research.google.com/assets/colab-badge.svg\" alt=\"Open In Colab\"/></a>"
      ]
    },
    {
      "cell_type": "code",
      "metadata": {
        "id": "_uGPN3ufYbvA",
        "outputId": "17b34225-6dd3-4f9d-c565-2907289bbf14",
        "colab": {
          "base_uri": "https://localhost:8080/",
          "height": 34
        }
      },
      "source": [
        "#Tahapan pada latihan ini sebagai berikut:\n",
        "#1.Bagi Dataset\n",
        "#2.Latih model tanpa PCA\n",
        "#3.Latih model dengan PCA\n",
        "#4.Evaluasi hasil dari kedua model\n",
        "\n",
        "from sklearn.decomposition import PCA\n",
        "from sklearn.model_selection import train_test_split\n",
        "from sklearn import datasets\n",
        "from sklearn import tree\n",
        "\n",
        "iris=datasets.load_iris()\n",
        "atribut=iris.data\n",
        "label=iris.target\n",
        "\n",
        "#bagi dataset menjadi train dan test set\n",
        "X_train, X_test, y_train, y_test=train_test_split(atribut,label,test_size=0.2)\n",
        "\n",
        "#menggunakan model Decision Tree\n",
        "#belum menggunakan PCA\n",
        "decision_tree=tree.DecisionTreeClassifier()\n",
        "model_pertama=decision_tree.fit(X_train,y_train)\n",
        "model_pertama.score(X_test,y_test)\n",
        "\n",
        "#setelah menggunakan PCA\n",
        "#membuat objek PCA dengan 4 pricipal component\n",
        "pca=PCA(n_components=4)\n",
        "\n",
        "#mengaplikasikan PCA pada dataset\n",
        "pca_attributes=pca.fit_transform(X_train)\n",
        "\n",
        "#melihat variance dari setiap atribut\n",
        "pca.explained_variance_ratio_\n",
        "\n",
        "#mengambil 2 principal component terbaik karena total variance nya adalah 0.969\n",
        "pca=PCA(n_components=2)\n",
        "X_train_pca=pca.fit_transform(X_train)\n",
        "X_test_pca=pca.fit_transform(X_test)\n",
        "\n",
        "#menguji akurasi dari classifier setelah menggunakan PCA\n",
        "model2=decision_tree.fit(X_train_pca,y_train)\n",
        "model2.score(X_test_pca,y_test)"
      ],
      "execution_count": 8,
      "outputs": [
        {
          "output_type": "execute_result",
          "data": {
            "text/plain": [
              "0.9666666666666667"
            ]
          },
          "metadata": {
            "tags": []
          },
          "execution_count": 8
        }
      ]
    }
  ]
}