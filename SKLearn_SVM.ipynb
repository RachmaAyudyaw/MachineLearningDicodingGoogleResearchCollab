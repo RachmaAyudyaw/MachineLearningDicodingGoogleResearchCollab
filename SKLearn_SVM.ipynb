{
  "nbformat": 4,
  "nbformat_minor": 0,
  "metadata": {
    "colab": {
      "name": "SKLearn SVM.ipynb",
      "provenance": [],
      "collapsed_sections": [],
      "authorship_tag": "ABX9TyNoJyNCmvHmJfayEvw6aEhv",
      "include_colab_link": true
    },
    "kernelspec": {
      "name": "python3",
      "display_name": "Python 3"
    }
  },
  "cells": [
    {
      "cell_type": "markdown",
      "metadata": {
        "id": "view-in-github",
        "colab_type": "text"
      },
      "source": [
        "<a href=\"https://colab.research.google.com/github/RachmaAyudyaw/MachineLearningDicodingGoogleResearchCollab/blob/main/SKLearn_SVM.ipynb\" target=\"_parent\"><img src=\"https://colab.research.google.com/assets/colab-badge.svg\" alt=\"Open In Colab\"/></a>"
      ]
    },
    {
      "cell_type": "code",
      "metadata": {
        "id": "1ZoCseX0ZSij",
        "outputId": "b868ed8a-654d-4e38-fafe-c90e2dfad018",
        "colab": {
          "base_uri": "https://localhost:8080/",
          "height": 34
        }
      },
      "source": [
        "#1.Ubah data ke dalam Dataframe\n",
        "#2.Bagi Dataset\n",
        "#3.Lakukan standarisasi\n",
        "#4.Buat dan latih model\n",
        "#5.evaluasi model\n",
        "\n",
        "import pandas as pd\n",
        "from sklearn.preprocessing import StandardScaler\n",
        "from sklearn.model_selection import train_test_split\n",
        "from sklearn.svm import SVC\n",
        "\n",
        "df=pd.read_csv('diabetes.csv')\n",
        "\n",
        "#menampilkan 5 baris teratas dari dataframe untuk melihat isi dari dataset\n",
        "#df.head()\n",
        "\n",
        "#mengecek apakah terdapat nilai-nilai yg hilang pada dataset & apakah ada atribut yg bukan numerik\n",
        "#df.info()\n",
        "\n",
        "# #memisahan atribut pada dataset & menyimpannya pada sebuah variabel\n",
        "X=df[df.columns[:8]]\n",
        "\n",
        "#memisahkan label pada dataset & menyimpannya pada sebuah variabel\n",
        "y=df['Outcome']\n",
        "\n",
        "#standarisasi nilai-nilai dari dataset\n",
        "#nilai di Glucose dan DiabetesPedigreeFunction memiliki skala yg berbeda\n",
        "scaler = StandardScaler()\n",
        "scaler.fit(X)\n",
        "X = scaler.transform(X)\n",
        "\n",
        "#Memisahkan data untuk training dan testing dgn fungsi .train_test_split()\n",
        "X_train,X_test,y_train,y_test=train_test_split(X,y,test_size=0.33,random_state=42)\n",
        "\n",
        "#membuat objek Support Vector Classifier & menampungnya pd variabel clf\n",
        "#kemudian panggil fungsi fit untuk melatih model\n",
        "clf=SVC()\n",
        "clf.fit(X_train,y_train)\n",
        "\n",
        "#lihat akurasi prediksi dari model yg dilatih pada data testing\n",
        "clf.score(X_test,y_test)\n"
      ],
      "execution_count": 12,
      "outputs": [
        {
          "output_type": "execute_result",
          "data": {
            "text/plain": [
              "0.7559055118110236"
            ]
          },
          "metadata": {
            "tags": []
          },
          "execution_count": 12
        }
      ]
    }
  ]
}