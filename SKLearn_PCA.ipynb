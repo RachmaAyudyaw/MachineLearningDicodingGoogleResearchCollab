{
  "nbformat": 4,
  "nbformat_minor": 0,
  "metadata": {
    "colab": {
      "name": "SKLearn PCA",
      "provenance": [],
      "authorship_tag": "ABX9TyO5qxsj1WeFBBn3yz3OFPov",
      "include_colab_link": true
    },
    "kernelspec": {
      "name": "python3",
      "display_name": "Python 3"
    }
  },
  "cells": [
    {
      "cell_type": "markdown",
      "metadata": {
        "id": "view-in-github",
        "colab_type": "text"
      },
      "source": [
        "<a href=\"https://colab.research.google.com/github/RachmaAyudyaw/MachineLearningDicodingGoogleResearchCollab/blob/main/SKLearn_PCA.ipynb\" target=\"_parent\"><img src=\"https://colab.research.google.com/assets/colab-badge.svg\" alt=\"Open In Colab\"/></a>"
      ]
    },
    {
      "cell_type": "code",
      "metadata": {
        "id": "_uGPN3ufYbvA",
        "outputId": "98cbe4df-b8ac-40ea-f9f8-9d58a8507f83",
        "colab": {
          "base_uri": "https://localhost:8080/",
          "height": 34
        }
      },
      "source": [
        "#Tahapan pada latihan ini sebagai berikut:\n",
        "#1.Bagi Dataset\n",
        "#2.Latih model tanpa PCA\n",
        "#3.Latih model dengan PCA\n",
        "#4.Evaluasi hasil dari kedua model\n",
        "\n",
        "from sklearn.decomposition import PCA\n",
        "from sklearn.model_selection import train_test_split\n",
        "from sklearn import datasets\n",
        "from sklearn import tree\n",
        "\n",
        "iris=datasets.load_iris()\n",
        "atribut=iris.data\n",
        "label=iris.target\n",
        "\n",
        "#bagi dataset menjadi train dan test set\n",
        "X_train, X_test, y_train, y_test=train_test_split(atribut,label,test_size=0.2)\n",
        "\n",
        "#menggunakan model Decision Tree\n",
        "#belum menggunakan PCA\n",
        "decision_tree=tree.DecisionTreeClassifier()\n",
        "model_pertama=decision_tree.fit(X_train,y_train)\n",
        "model_pertama.score(X_test,y_test)\n",
        "\n",
        "\n"
      ],
      "execution_count": 1,
      "outputs": [
        {
          "output_type": "execute_result",
          "data": {
            "text/plain": [
              "0.9666666666666667"
            ]
          },
          "metadata": {
            "tags": []
          },
          "execution_count": 1
        }
      ]
    }
  ]
}