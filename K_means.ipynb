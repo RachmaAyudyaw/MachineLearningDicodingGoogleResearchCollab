{
  "nbformat": 4,
  "nbformat_minor": 0,
  "metadata": {
    "colab": {
      "name": "K-means.ipynb",
      "provenance": [],
      "authorship_tag": "ABX9TyMNq0D5h9I6DluQ6INPxIG9",
      "include_colab_link": true
    },
    "kernelspec": {
      "name": "python3",
      "display_name": "Python 3"
    }
  },
  "cells": [
    {
      "cell_type": "markdown",
      "metadata": {
        "id": "view-in-github",
        "colab_type": "text"
      },
      "source": [
        "<a href=\"https://colab.research.google.com/github/RachmaAyudyaw/MachineLearningDicodingGoogleResearchCollab/blob/main/K_means.ipynb\" target=\"_parent\"><img src=\"https://colab.research.google.com/assets/colab-badge.svg\" alt=\"Open In Colab\"/></a>"
      ]
    },
    {
      "cell_type": "code",
      "metadata": {
        "id": "ZlqwvSORRnQ3",
        "outputId": "e134a1a1-fc5a-42b0-f4d0-152646b4f211",
        "colab": {
          "base_uri": "https://localhost:8080/",
          "height": 312
        }
      },
      "source": [
        "import pandas as pd\n",
        "import matplotlib.pyplot as plt\n",
        "%matplotlib inline\n",
        "import seaborn as sns\n",
        "#import K-Means\n",
        "from sklearn.cluster import KMeans\n",
        "\n",
        "#ubah file csv menjadi dataframe\n",
        "df=pd.read_csv('Mall_Customers.csv')\n",
        "\n",
        "#tampilkan 3 baris pertama\n",
        "df.head(3)\n",
        "\n",
        "#ubah nama kolom\n",
        "df=df.rename(columns={'Gender':'gender','Age':'age',\n",
        "                      'Annual Income (k$)':'annual_income',\n",
        "                      'Spending Score (1-100)': 'spending_score'})\n",
        "\n",
        "#ubah data kategorik menjadi data numerik\n",
        "df['gender'].replace(['Female','Male'],[0,1],inplace=True)\n",
        "\n",
        "#tampilkan data yang sudah dipreprocess\n",
        "df.head(3)\n",
        "\n",
        "#menghilangkan kolom customer id dan gender\n",
        "X=df.drop(['CustomerID','gender'],axis=1)\n",
        "\n",
        "#membuat list yang berisi inertia\n",
        "clusters=[]\n",
        "for i in range(1,11):\n",
        "  km=KMeans(n_clusters=i).fit(X)\n",
        "  clusters.append(km.inertia_)\n",
        "\n",
        "#membuat plot inertia\n",
        "fig,ax=plt.subplots(figsize=(8,4))\n",
        "sns.lineplot(x=list(range(1,11)),y=clusters,ax=ax)\n",
        "ax.set_title('Cari Elbow')\n",
        "ax.set_xlabel('Cluster')\n",
        "ax.set_ylabel('Inertia')"
      ],
      "execution_count": 4,
      "outputs": [
        {
          "output_type": "execute_result",
          "data": {
            "text/plain": [
              "Text(0, 0.5, 'Inertia')"
            ]
          },
          "metadata": {
            "tags": []
          },
          "execution_count": 4
        },
        {
          "output_type": "display_data",
          "data": {
            "image/png": "[encoded data removed]",
            "text/plain": [
              "<Figure size 576x288 with 1 Axes>"
            ]
          },
          "metadata": {
            "tags": [],
            "needs_background": "light"
          }
        }
      ]
    }
  ]
}